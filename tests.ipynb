{
 "cells": [
  {
   "cell_type": "code",
   "execution_count": null,
   "metadata": {},
   "outputs": [],
   "source": [
    "from tokenizer import BasicTokenizer"
   ]
  },
  {
   "cell_type": "code",
   "execution_count": null,
   "metadata": {},
   "outputs": [],
   "source": [
    "tokenizer = BasicTokenizer()\n",
    "with open(\"taylorswift.txt\", \"r\") as filehandle:\n",
    "    text = filehandle.read()\n",
    "    tokenizer.train(text, 276, True)\n",
    "    text = \"Hello world whats'up\"\n",
    "    encoded = tokenizer.encode(text)\n",
    "    decoded = tokenizer.decode(encoded)\n",
    "    print(decoded)"
   ]
  }
 ],
 "metadata": {
  "language_info": {
   "name": "python"
  }
 },
 "nbformat": 4,
 "nbformat_minor": 2
}
